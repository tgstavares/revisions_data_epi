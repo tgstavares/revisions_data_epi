{
 "cells": [
  {
   "cell_type": "code",
   "execution_count": 1,
   "metadata": {},
   "outputs": [],
   "source": [
    "## Libraries\n",
    "\n",
    "import numpy as np\n",
    "import scipy.optimize as opt\n",
    "from scipy import stats\n",
    "import pandas as pd\n",
    "import plotly.graph_objects as go\n",
    "from datetime import datetime\n",
    "from plotly.subplots import make_subplots\n",
    "import sys\n",
    "from IPython.display import Image\n",
    "import plotly.io as pio"
   ]
  },
  {
   "cell_type": "code",
   "execution_count": 11,
   "metadata": {},
   "outputs": [],
   "source": [
    "from datetime import datetime\n",
    "\n",
    "## Uncomment as appropriate\n",
    "\n",
    "\n",
    "# ## Mexico\n",
    "\n",
    "# ## Uncomment as appropriate\n",
    "# #sim = pd.read_csv(\"ModelEstimationMX/data/Res_simul_00.txt\", header=None, delimiter=r\"\\s+\")\n",
    "# #sim = pd.read_csv(\"ModelEstimationMX/data/Res_simul_13.txt\", header=None, delimiter=r\"\\s+\")\n",
    "\n",
    "# sim = sim[[0,6]]\n",
    "# sim = sim.rename(columns={0: 't'})\n",
    "# sim = sim.rename(columns={6: 'deaths_sim'})\n",
    "# ori = pd.read_csv(\"ModelEstimationMX/data/export000.csv\")\n",
    "# fin = pd.merge(sim,ori,on='t',how='left').reset_index()\n",
    "\n",
    "\n",
    "# England\n",
    "\n",
    "## Uncomment as appropriate\n",
    "#sim = pd.read_csv(\"ModelEstimationEN/data/Res_simul_00.txt\", header=None, delimiter=r\"\\s+\")\n",
    "#sim = pd.read_csv(\"ModelEstimationEN/data/Res_simul_13.txt\", header=None, delimiter=r\"\\s+\")\n",
    "\n",
    "sim = sim[[0,6]]\n",
    "sim = sim.rename(columns={0: 't'})\n",
    "sim = sim.rename(columns={6: 'deaths_sim'})\n",
    "ori = pd.read_csv(\"ModelEstimationEn/data/export000.csv\")\n",
    "fin = pd.merge(sim,ori,on='t',how='left').reset_index()\n",
    "\n",
    "\n",
    "## File to visualize\n",
    "fin.loc[len(ori)-1:len(fin),'date'] = pd.date_range(start=ori.date.iloc[-1],periods=(len(fin)-len(ori)+1))\n",
    "fin['date'] = pd.to_datetime(fin['date'])"
   ]
  },
  {
   "cell_type": "code",
   "execution_count": 14,
   "metadata": {
    "scrolled": false
   },
   "outputs": [],
   "source": [
    "pd.set_option('display.max_rows', 200)\n",
    "\n",
    "## Uncomment as appropriate\n",
    "\n",
    "#fin[['t','date','deaths_sim']]\n",
    "#fin[['t','date','deaths_sim']].diff()"
   ]
  }
 ],
 "metadata": {
  "kernelspec": {
   "display_name": "Python 3",
   "language": "python",
   "name": "python3"
  },
  "language_info": {
   "codemirror_mode": {
    "name": "ipython",
    "version": 3
   },
   "file_extension": ".py",
   "mimetype": "text/x-python",
   "name": "python",
   "nbconvert_exporter": "python",
   "pygments_lexer": "ipython3",
   "version": "3.7.4"
  }
 },
 "nbformat": 4,
 "nbformat_minor": 4
}
